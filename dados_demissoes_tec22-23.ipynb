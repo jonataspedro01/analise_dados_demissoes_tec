{
 "cells": [
  {
   "cell_type": "code",
   "execution_count": 14,
   "id": "c81da18a",
   "metadata": {},
   "outputs": [],
   "source": [
    "import pandas as pd\n",
    "import numpy as np\n",
    "import matplotlib.pyplot as plt\n",
    "%matplotlib inline"
   ]
  },
  {
   "cell_type": "code",
   "execution_count": 27,
   "id": "5badd521",
   "metadata": {},
   "outputs": [],
   "source": [
    "planilha = pd.read_csv('demissoes.csv', sep=',')"
   ]
  },
  {
   "cell_type": "code",
   "execution_count": 28,
   "id": "064a2045",
   "metadata": {},
   "outputs": [
    {
     "data": {
      "text/html": [
       "<div>\n",
       "<style scoped>\n",
       "    .dataframe tbody tr th:only-of-type {\n",
       "        vertical-align: middle;\n",
       "    }\n",
       "\n",
       "    .dataframe tbody tr th {\n",
       "        vertical-align: top;\n",
       "    }\n",
       "\n",
       "    .dataframe thead th {\n",
       "        text-align: right;\n",
       "    }\n",
       "</style>\n",
       "<table border=\"1\" class=\"dataframe\">\n",
       "  <thead>\n",
       "    <tr style=\"text-align: right;\">\n",
       "      <th></th>\n",
       "      <th>company</th>\n",
       "      <th>total_layoffs</th>\n",
       "      <th>impacted_workforce_percentage</th>\n",
       "      <th>reported_date</th>\n",
       "      <th>industry</th>\n",
       "      <th>headquarter_location</th>\n",
       "      <th>sources</th>\n",
       "      <th>status</th>\n",
       "      <th>additional_notes</th>\n",
       "    </tr>\n",
       "  </thead>\n",
       "  <tbody>\n",
       "    <tr>\n",
       "      <th>0</th>\n",
       "      <td>C2FO</td>\n",
       "      <td>20</td>\n",
       "      <td>2</td>\n",
       "      <td>12/9/2022</td>\n",
       "      <td>Fintech, payments</td>\n",
       "      <td>Leawood, KS</td>\n",
       "      <td>Kansas City Business Journal</td>\n",
       "      <td>Private</td>\n",
       "      <td>NaN</td>\n",
       "    </tr>\n",
       "    <tr>\n",
       "      <th>1</th>\n",
       "      <td>VideoAmp</td>\n",
       "      <td>Unclear</td>\n",
       "      <td>2</td>\n",
       "      <td>9/19/2022</td>\n",
       "      <td>Advertising platforms</td>\n",
       "      <td>Los Angeles</td>\n",
       "      <td>Company memo</td>\n",
       "      <td>Private</td>\n",
       "      <td>NaN</td>\n",
       "    </tr>\n",
       "    <tr>\n",
       "      <th>2</th>\n",
       "      <td>Amperity</td>\n",
       "      <td>13</td>\n",
       "      <td>3</td>\n",
       "      <td>8/20/2022</td>\n",
       "      <td>Saas, analytics</td>\n",
       "      <td>Seattle</td>\n",
       "      <td>Geekwire</td>\n",
       "      <td>Private</td>\n",
       "      <td>NaN</td>\n",
       "    </tr>\n",
       "    <tr>\n",
       "      <th>3</th>\n",
       "      <td>Addepar</td>\n",
       "      <td>20</td>\n",
       "      <td>3</td>\n",
       "      <td>1/18/2023</td>\n",
       "      <td>fintech, data analytics</td>\n",
       "      <td>Mountain View, CA</td>\n",
       "      <td>Fortune</td>\n",
       "      <td>Private</td>\n",
       "      <td>NaN</td>\n",
       "    </tr>\n",
       "    <tr>\n",
       "      <th>4</th>\n",
       "      <td>Thirty Madison</td>\n",
       "      <td>24</td>\n",
       "      <td>3</td>\n",
       "      <td>5/13/2022</td>\n",
       "      <td>Health Care</td>\n",
       "      <td>New York</td>\n",
       "      <td>Axios</td>\n",
       "      <td>Private</td>\n",
       "      <td>Per Axios, 22 of the employees laid off were f...</td>\n",
       "    </tr>\n",
       "    <tr>\n",
       "      <th>...</th>\n",
       "      <td>...</td>\n",
       "      <td>...</td>\n",
       "      <td>...</td>\n",
       "      <td>...</td>\n",
       "      <td>...</td>\n",
       "      <td>...</td>\n",
       "      <td>...</td>\n",
       "      <td>...</td>\n",
       "      <td>...</td>\n",
       "    </tr>\n",
       "    <tr>\n",
       "      <th>484</th>\n",
       "      <td>Salesforce</td>\n",
       "      <td>9090</td>\n",
       "      <td>Unclear</td>\n",
       "      <td>1/4/2023</td>\n",
       "      <td>enterprise tech, analytics</td>\n",
       "      <td>San Francisco</td>\n",
       "      <td>New York Times</td>\n",
       "      <td>Public</td>\n",
       "      <td>NaN</td>\n",
       "    </tr>\n",
       "    <tr>\n",
       "      <th>485</th>\n",
       "      <td>Oracle</td>\n",
       "      <td>Unclear</td>\n",
       "      <td>Unclear</td>\n",
       "      <td>8/1/2022</td>\n",
       "      <td>SaaS, enterprise software</td>\n",
       "      <td>Austin</td>\n",
       "      <td>The Information</td>\n",
       "      <td>Public</td>\n",
       "      <td>The Information reported thousands of people w...</td>\n",
       "    </tr>\n",
       "    <tr>\n",
       "      <th>486</th>\n",
       "      <td>LivePerson</td>\n",
       "      <td>Unclear</td>\n",
       "      <td>Unclear</td>\n",
       "      <td>9/15/2022</td>\n",
       "      <td>Customer service</td>\n",
       "      <td>New York</td>\n",
       "      <td>LinkedIn</td>\n",
       "      <td>Public</td>\n",
       "      <td>NaN</td>\n",
       "    </tr>\n",
       "    <tr>\n",
       "      <th>487</th>\n",
       "      <td>Skillz</td>\n",
       "      <td>Unclear</td>\n",
       "      <td>Unclear</td>\n",
       "      <td>8/29/2022</td>\n",
       "      <td>Mobile Apps, Gaming</td>\n",
       "      <td>San Francisco</td>\n",
       "      <td>Seeking Alpha</td>\n",
       "      <td>Public</td>\n",
       "      <td>NaN</td>\n",
       "    </tr>\n",
       "    <tr>\n",
       "      <th>488</th>\n",
       "      <td>Blueboard</td>\n",
       "      <td>Unclear</td>\n",
       "      <td>Unclear</td>\n",
       "      <td>11/3/2022</td>\n",
       "      <td>Enterprise Software</td>\n",
       "      <td>San Francisco</td>\n",
       "      <td>LinkedIn reports</td>\n",
       "      <td>Private</td>\n",
       "      <td>NaN</td>\n",
       "    </tr>\n",
       "  </tbody>\n",
       "</table>\n",
       "<p>489 rows × 9 columns</p>\n",
       "</div>"
      ],
      "text/plain": [
       "            company total_layoffs impacted_workforce_percentage reported_date  \\\n",
       "0              C2FO            20                             2     12/9/2022   \n",
       "1          VideoAmp       Unclear                             2     9/19/2022   \n",
       "2          Amperity            13                             3     8/20/2022   \n",
       "3           Addepar            20                             3     1/18/2023   \n",
       "4    Thirty Madison            24                             3     5/13/2022   \n",
       "..              ...           ...                           ...           ...   \n",
       "484      Salesforce          9090                       Unclear      1/4/2023   \n",
       "485          Oracle       Unclear                       Unclear      8/1/2022   \n",
       "486      LivePerson       Unclear                       Unclear     9/15/2022   \n",
       "487          Skillz       Unclear                       Unclear     8/29/2022   \n",
       "488       Blueboard       Unclear                       Unclear     11/3/2022   \n",
       "\n",
       "                       industry headquarter_location  \\\n",
       "0             Fintech, payments          Leawood, KS   \n",
       "1         Advertising platforms          Los Angeles   \n",
       "2               Saas, analytics              Seattle   \n",
       "3       fintech, data analytics    Mountain View, CA   \n",
       "4                   Health Care             New York   \n",
       "..                          ...                  ...   \n",
       "484  enterprise tech, analytics        San Francisco   \n",
       "485   SaaS, enterprise software               Austin   \n",
       "486            Customer service             New York   \n",
       "487         Mobile Apps, Gaming        San Francisco   \n",
       "488         Enterprise Software        San Francisco   \n",
       "\n",
       "                          sources   status  \\\n",
       "0    Kansas City Business Journal  Private   \n",
       "1                    Company memo  Private   \n",
       "2                        Geekwire  Private   \n",
       "3                         Fortune  Private   \n",
       "4                           Axios  Private   \n",
       "..                            ...      ...   \n",
       "484                New York Times   Public   \n",
       "485               The Information   Public   \n",
       "486                      LinkedIn   Public   \n",
       "487                 Seeking Alpha   Public   \n",
       "488              LinkedIn reports  Private   \n",
       "\n",
       "                                      additional_notes  \n",
       "0                                                  NaN  \n",
       "1                                                  NaN  \n",
       "2                                                  NaN  \n",
       "3                                                  NaN  \n",
       "4    Per Axios, 22 of the employees laid off were f...  \n",
       "..                                                 ...  \n",
       "484                                                NaN  \n",
       "485  The Information reported thousands of people w...  \n",
       "486                                                NaN  \n",
       "487                                                NaN  \n",
       "488                                                NaN  \n",
       "\n",
       "[489 rows x 9 columns]"
      ]
     },
     "execution_count": 28,
     "metadata": {},
     "output_type": "execute_result"
    }
   ],
   "source": [
    "planilha"
   ]
  },
  {
   "cell_type": "markdown",
   "id": "18b03056",
   "metadata": {},
   "source": [
    "# 1 Tratamento dos dados"
   ]
  },
  {
   "cell_type": "code",
   "execution_count": 17,
   "id": "ef972c4c",
   "metadata": {},
   "outputs": [
    {
     "data": {
      "text/plain": [
       "company                            0\n",
       "total_layoffs                      0\n",
       "impacted_workforce_percentage      0\n",
       "reported_date                      0\n",
       "industry                           0\n",
       "headquarter_location               0\n",
       "sources                            0\n",
       "status                             0\n",
       "additional_notes                 467\n",
       "dtype: int64"
      ]
     },
     "execution_count": 17,
     "metadata": {},
     "output_type": "execute_result"
    }
   ],
   "source": [
    "planilha.isnull().sum()"
   ]
  },
  {
   "cell_type": "code",
   "execution_count": 18,
   "id": "8a1ad96b",
   "metadata": {},
   "outputs": [
    {
     "data": {
      "text/plain": [
       "0                                                    NaN\n",
       "1                                                    NaN\n",
       "2                                                    NaN\n",
       "3                                                    NaN\n",
       "4      Per Axios, 22 of the employees laid off were f...\n",
       "                             ...                        \n",
       "484                                                  NaN\n",
       "485    The Information reported thousands of people w...\n",
       "486                                                  NaN\n",
       "487                                                  NaN\n",
       "488                                                  NaN\n",
       "Name: additional_notes, Length: 489, dtype: object"
      ]
     },
     "execution_count": 18,
     "metadata": {},
     "output_type": "execute_result"
    }
   ],
   "source": [
    "'''\n",
    "Dados nulos na tabela additional_notes\n",
    "'''\n",
    "planilha['additional_notes']"
   ]
  },
  {
   "cell_type": "markdown",
   "id": "166571d6",
   "metadata": {},
   "source": [
    "# 2  Identificação e tratamento de valores atípicos (outliers);"
   ]
  },
  {
   "cell_type": "code",
   "execution_count": null,
   "id": "a573beb9",
   "metadata": {},
   "outputs": [],
   "source": []
  },
  {
   "cell_type": "markdown",
   "id": "c382acb6",
   "metadata": {},
   "source": [
    "# 3 Tratamento em formato de dados"
   ]
  },
  {
   "cell_type": "code",
   "execution_count": null,
   "id": "296d4a91",
   "metadata": {},
   "outputs": [],
   "source": []
  },
  {
   "cell_type": "markdown",
   "id": "1453d566",
   "metadata": {},
   "source": [
    "# 4 Se vários datasets, identificar chaves primárias e realizar a junção (join)"
   ]
  },
  {
   "cell_type": "code",
   "execution_count": null,
   "id": "f9b32b38",
   "metadata": {},
   "outputs": [],
   "source": []
  },
  {
   "cell_type": "markdown",
   "id": "867fa9c5",
   "metadata": {},
   "source": [
    "# 5 Criação de novos dados para facilitar a análise (feature engineering)"
   ]
  },
  {
   "cell_type": "code",
   "execution_count": null,
   "id": "9fcf7749",
   "metadata": {},
   "outputs": [],
   "source": []
  },
  {
   "cell_type": "markdown",
   "id": "01b2f17a",
   "metadata": {},
   "source": [
    "# 6  Realizar 5 análises descritivas e gerar os respectivos gráficos"
   ]
  },
  {
   "cell_type": "markdown",
   "id": "5de3b0a1",
   "metadata": {},
   "source": [
    " 1 -  Qual Companhia teve mais demissões? "
   ]
  },
  {
   "cell_type": "code",
   "execution_count": 34,
   "id": "ecd3a5e5",
   "metadata": {},
   "outputs": [
    {
     "data": {
      "text/plain": [
       "<pandas.core.groupby.generic.DataFrameGroupBy object at 0x0000023D3AB61DE0>"
      ]
     },
     "execution_count": 34,
     "metadata": {},
     "output_type": "execute_result"
    }
   ],
   "source": [
    "planilha.groupby('company')"
   ]
  },
  {
   "cell_type": "code",
   "execution_count": 41,
   "id": "5d83b30d",
   "metadata": {},
   "outputs": [
    {
     "data": {
      "text/html": [
       "<div>\n",
       "<style scoped>\n",
       "    .dataframe tbody tr th:only-of-type {\n",
       "        vertical-align: middle;\n",
       "    }\n",
       "\n",
       "    .dataframe tbody tr th {\n",
       "        vertical-align: top;\n",
       "    }\n",
       "\n",
       "    .dataframe thead th {\n",
       "        text-align: right;\n",
       "    }\n",
       "</style>\n",
       "<table border=\"1\" class=\"dataframe\">\n",
       "  <thead>\n",
       "    <tr style=\"text-align: right;\">\n",
       "      <th></th>\n",
       "      <th>total_layoffs</th>\n",
       "      <th>impacted_workforce_percentage</th>\n",
       "      <th>reported_date</th>\n",
       "      <th>industry</th>\n",
       "      <th>headquarter_location</th>\n",
       "      <th>sources</th>\n",
       "      <th>status</th>\n",
       "      <th>additional_notes</th>\n",
       "    </tr>\n",
       "    <tr>\n",
       "      <th>company</th>\n",
       "      <th></th>\n",
       "      <th></th>\n",
       "      <th></th>\n",
       "      <th></th>\n",
       "      <th></th>\n",
       "      <th></th>\n",
       "      <th></th>\n",
       "      <th></th>\n",
       "    </tr>\n",
       "  </thead>\n",
       "  <tbody>\n",
       "    <tr>\n",
       "      <th>100 Thieves</th>\n",
       "      <td>1</td>\n",
       "      <td>1</td>\n",
       "      <td>1</td>\n",
       "      <td>1</td>\n",
       "      <td>1</td>\n",
       "      <td>1</td>\n",
       "      <td>1</td>\n",
       "      <td>1</td>\n",
       "    </tr>\n",
       "    <tr>\n",
       "      <th>2U</th>\n",
       "      <td>1</td>\n",
       "      <td>1</td>\n",
       "      <td>1</td>\n",
       "      <td>1</td>\n",
       "      <td>1</td>\n",
       "      <td>1</td>\n",
       "      <td>1</td>\n",
       "      <td>0</td>\n",
       "    </tr>\n",
       "    <tr>\n",
       "      <th>6sense</th>\n",
       "      <td>1</td>\n",
       "      <td>1</td>\n",
       "      <td>1</td>\n",
       "      <td>1</td>\n",
       "      <td>1</td>\n",
       "      <td>1</td>\n",
       "      <td>1</td>\n",
       "      <td>0</td>\n",
       "    </tr>\n",
       "    <tr>\n",
       "      <th>80 Acres Farms</th>\n",
       "      <td>1</td>\n",
       "      <td>1</td>\n",
       "      <td>1</td>\n",
       "      <td>1</td>\n",
       "      <td>1</td>\n",
       "      <td>1</td>\n",
       "      <td>1</td>\n",
       "      <td>0</td>\n",
       "    </tr>\n",
       "    <tr>\n",
       "      <th>8x8</th>\n",
       "      <td>1</td>\n",
       "      <td>1</td>\n",
       "      <td>1</td>\n",
       "      <td>1</td>\n",
       "      <td>1</td>\n",
       "      <td>1</td>\n",
       "      <td>1</td>\n",
       "      <td>0</td>\n",
       "    </tr>\n",
       "    <tr>\n",
       "      <th>...</th>\n",
       "      <td>...</td>\n",
       "      <td>...</td>\n",
       "      <td>...</td>\n",
       "      <td>...</td>\n",
       "      <td>...</td>\n",
       "      <td>...</td>\n",
       "      <td>...</td>\n",
       "      <td>...</td>\n",
       "    </tr>\n",
       "    <tr>\n",
       "      <th>Zywave</th>\n",
       "      <td>1</td>\n",
       "      <td>1</td>\n",
       "      <td>1</td>\n",
       "      <td>1</td>\n",
       "      <td>1</td>\n",
       "      <td>1</td>\n",
       "      <td>1</td>\n",
       "      <td>0</td>\n",
       "    </tr>\n",
       "    <tr>\n",
       "      <th>iRobot</th>\n",
       "      <td>1</td>\n",
       "      <td>1</td>\n",
       "      <td>1</td>\n",
       "      <td>1</td>\n",
       "      <td>1</td>\n",
       "      <td>1</td>\n",
       "      <td>1</td>\n",
       "      <td>0</td>\n",
       "    </tr>\n",
       "    <tr>\n",
       "      <th>impact.com</th>\n",
       "      <td>1</td>\n",
       "      <td>1</td>\n",
       "      <td>1</td>\n",
       "      <td>1</td>\n",
       "      <td>1</td>\n",
       "      <td>1</td>\n",
       "      <td>1</td>\n",
       "      <td>0</td>\n",
       "    </tr>\n",
       "    <tr>\n",
       "      <th>nCino</th>\n",
       "      <td>1</td>\n",
       "      <td>1</td>\n",
       "      <td>1</td>\n",
       "      <td>1</td>\n",
       "      <td>1</td>\n",
       "      <td>1</td>\n",
       "      <td>1</td>\n",
       "      <td>0</td>\n",
       "    </tr>\n",
       "    <tr>\n",
       "      <th>realtor.com</th>\n",
       "      <td>1</td>\n",
       "      <td>1</td>\n",
       "      <td>1</td>\n",
       "      <td>1</td>\n",
       "      <td>1</td>\n",
       "      <td>1</td>\n",
       "      <td>1</td>\n",
       "      <td>0</td>\n",
       "    </tr>\n",
       "  </tbody>\n",
       "</table>\n",
       "<p>477 rows × 8 columns</p>\n",
       "</div>"
      ],
      "text/plain": [
       "                total_layoffs  impacted_workforce_percentage  reported_date  \\\n",
       "company                                                                       \n",
       "100 Thieves                 1                              1              1   \n",
       "2U                          1                              1              1   \n",
       "6sense                      1                              1              1   \n",
       "80 Acres Farms              1                              1              1   \n",
       "8x8                         1                              1              1   \n",
       "...                       ...                            ...            ...   \n",
       "Zywave                      1                              1              1   \n",
       "iRobot                      1                              1              1   \n",
       "impact.com                  1                              1              1   \n",
       "nCino                       1                              1              1   \n",
       "realtor.com                 1                              1              1   \n",
       "\n",
       "                industry  headquarter_location  sources  status  \\\n",
       "company                                                           \n",
       "100 Thieves            1                     1        1       1   \n",
       "2U                     1                     1        1       1   \n",
       "6sense                 1                     1        1       1   \n",
       "80 Acres Farms         1                     1        1       1   \n",
       "8x8                    1                     1        1       1   \n",
       "...                  ...                   ...      ...     ...   \n",
       "Zywave                 1                     1        1       1   \n",
       "iRobot                 1                     1        1       1   \n",
       "impact.com             1                     1        1       1   \n",
       "nCino                  1                     1        1       1   \n",
       "realtor.com            1                     1        1       1   \n",
       "\n",
       "                additional_notes  \n",
       "company                           \n",
       "100 Thieves                    1  \n",
       "2U                             0  \n",
       "6sense                         0  \n",
       "80 Acres Farms                 0  \n",
       "8x8                            0  \n",
       "...                          ...  \n",
       "Zywave                         0  \n",
       "iRobot                         0  \n",
       "impact.com                     0  \n",
       "nCino                          0  \n",
       "realtor.com                    0  \n",
       "\n",
       "[477 rows x 8 columns]"
      ]
     },
     "execution_count": 41,
     "metadata": {},
     "output_type": "execute_result"
    }
   ],
   "source": [
    "planilha.groupby('company').count()"
   ]
  },
  {
   "cell_type": "code",
   "execution_count": 42,
   "id": "22565cec",
   "metadata": {},
   "outputs": [
    {
     "data": {
      "text/plain": [
       "company\n",
       "100 Thieves       1\n",
       "2U                1\n",
       "6sense            1\n",
       "80 Acres Farms    1\n",
       "8x8               1\n",
       "                 ..\n",
       "Zywave            1\n",
       "iRobot            1\n",
       "impact.com        1\n",
       "nCino             1\n",
       "realtor.com       1\n",
       "Name: total_layoffs, Length: 477, dtype: int64"
      ]
     },
     "execution_count": 42,
     "metadata": {},
     "output_type": "execute_result"
    }
   ],
   "source": [
    "planilha.groupby('company').count().total_layoffs"
   ]
  },
  {
   "cell_type": "code",
   "execution_count": 69,
   "id": "37f68d8b",
   "metadata": {},
   "outputs": [
    {
     "data": {
      "text/plain": [
       "company\n",
       "Latch          2\n",
       "Argo AI        2\n",
       "Sundae         2\n",
       "Socure         2\n",
       "Homeward       2\n",
       "              ..\n",
       "Exodus         1\n",
       "Everlane       1\n",
       "Ethos Life     1\n",
       "Esper          1\n",
       "realtor.com    1\n",
       "Name: total_layoffs, Length: 477, dtype: int64"
      ]
     },
     "execution_count": 69,
     "metadata": {},
     "output_type": "execute_result"
    }
   ],
   "source": [
    "planilha.groupby('company').count().total_layoffs.sort_values(ascending=False)"
   ]
  },
  {
   "cell_type": "code",
   "execution_count": 72,
   "id": "9fc0b566",
   "metadata": {},
   "outputs": [
    {
     "data": {
      "image/png": "[encoded data removed]",
      "text/plain": [
       "<Figure size 640x480 with 1 Axes>"
      ]
     },
     "metadata": {},
     "output_type": "display_data"
    }
   ],
   "source": [
    "demitidos = planilha.groupby('company').count().total_layoffs.sort_values(ascending=False).head(5)\n",
    "\n",
    "plt.bar(demitidos.index, demitidos.values)\n",
    "plt.title('Mais demissões por empresas')\n",
    "plt.xticks(rotation=5)\n",
    "plt.show()"
   ]
  },
  {
   "cell_type": "markdown",
   "id": "abf9f3e0",
   "metadata": {},
   "source": [
    "2 - Quais tipos de empresas (status) teve mais demissões? Pública ou Privada?"
   ]
  },
  {
   "cell_type": "code",
   "execution_count": 57,
   "id": "cb0338f1",
   "metadata": {},
   "outputs": [
    {
     "data": {
      "text/plain": [
       "status\n",
       "Private    370\n",
       "Public     119\n",
       "Name: company, dtype: int64"
      ]
     },
     "execution_count": 57,
     "metadata": {},
     "output_type": "execute_result"
    }
   ],
   "source": [
    "planilha.groupby('status').count().company.sort_values(ascending=False)"
   ]
  },
  {
   "cell_type": "code",
   "execution_count": 58,
   "id": "bfe1cde7",
   "metadata": {},
   "outputs": [
    {
     "data": {
      "image/png": "[encoded data removed]",
      "text/plain": [
       "<Figure size 640x480 with 1 Axes>"
      ]
     },
     "metadata": {},
     "output_type": "display_data"
    }
   ],
   "source": [
    "tipo = planilha.groupby('status').count().company.sort_values(ascending=False)\n",
    "\n",
    "plt.bar(tipo.index, tipo.values)\n",
    "plt.title('Tipos de empresas que teve mais demissões')\n",
    "plt.show()"
   ]
  },
  {
   "cell_type": "markdown",
   "id": "b3920e3d",
   "metadata": {},
   "source": [
    "3 - Qual ramo de industria teve mais demissões?"
   ]
  },
  {
   "cell_type": "code",
   "execution_count": 59,
   "id": "787674c3",
   "metadata": {},
   "outputs": [
    {
     "data": {
      "text/plain": [
       "industry\n",
       "Fintech               24\n",
       "Health Care           17\n",
       "PropTech              15\n",
       "E-commerce            13\n",
       "Cybersecurity         10\n",
       "                      ..\n",
       "IT, future of work     1\n",
       "IT, software           1\n",
       "Insurance, fintech     1\n",
       "Insurtech              1\n",
       "video games            1\n",
       "Name: company, Length: 289, dtype: int64"
      ]
     },
     "execution_count": 59,
     "metadata": {},
     "output_type": "execute_result"
    }
   ],
   "source": [
    "planilha.groupby('industry').count().company.sort_values(ascending=False)"
   ]
  },
  {
   "cell_type": "code",
   "execution_count": 63,
   "id": "54e03aac",
   "metadata": {},
   "outputs": [
    {
     "data": {
      "image/png": "[encoded data removed]",
      "text/plain": [
       "<Figure size 640x480 with 1 Axes>"
      ]
     },
     "metadata": {},
     "output_type": "display_data"
    }
   ],
   "source": [
    "ramo = planilha.groupby('industry').count().company.sort_values(ascending=False).head(5)\n",
    "\n",
    "plt.bar(ramo.index, ramo.values)\n",
    "plt.title('Ramo das empresas que teve mais demissões')\n",
    "plt.xticks(rotation=45)\n",
    "plt.show()"
   ]
  },
  {
   "cell_type": "markdown",
   "id": "f8db589d",
   "metadata": {},
   "source": [
    "4 - Qual foi a localidade com mais demitidos?"
   ]
  },
  {
   "cell_type": "code",
   "execution_count": 83,
   "id": "bb8babc4",
   "metadata": {},
   "outputs": [
    {
     "data": {
      "text/plain": [
       "headquarter_location\n",
       "San Francisco          136\n",
       "New York                77\n",
       "Seattle                 21\n",
       "Los Angeles             20\n",
       "Boston                  16\n",
       "                      ... \n",
       "Houston                  1\n",
       "Hoboken, New Jersey      1\n",
       "Healdsburg, CA           1\n",
       "Hayward, California      1\n",
       "Wilmington, NC           1\n",
       "Name: company, Length: 134, dtype: int64"
      ]
     },
     "execution_count": 83,
     "metadata": {},
     "output_type": "execute_result"
    }
   ],
   "source": [
    "planilha.groupby('headquarter_location').count().company.sort_values(ascending=False)"
   ]
  },
  {
   "cell_type": "code",
   "execution_count": 86,
   "id": "12a15ffe",
   "metadata": {},
   "outputs": [
    {
     "data": {
      "image/png": "[encoded data removed]",
      "text/plain": [
       "<Figure size 640x480 with 1 Axes>"
      ]
     },
     "metadata": {},
     "output_type": "display_data"
    }
   ],
   "source": [
    "localidade = planilha.groupby('headquarter_location').count().company.sort_values(ascending=False).head(15)\n",
    "\n",
    "plt.bar(localidade.index, localidade.values)\n",
    "plt.title('Locais com mais demissões')\n",
    "plt.xticks(rotation=90)\n",
    "plt.show()"
   ]
  },
  {
   "cell_type": "markdown",
   "id": "c82be006",
   "metadata": {},
   "source": [
    "5 - Quais as três principais fontes de informações?"
   ]
  },
  {
   "cell_type": "code",
   "execution_count": 81,
   "id": "95c41a87",
   "metadata": {},
   "outputs": [
    {
     "data": {
      "text/plain": [
       "sources\n",
       "TechCrunch              52\n",
       "Business Insider        23\n",
       "The Information         23\n",
       "Calcalistech            20\n",
       "LinkedIn                16\n",
       "                        ..\n",
       "External Spreadsheet     1\n",
       "Fast Company             1\n",
       "Freight Waves            1\n",
       "FreightWaves             1\n",
       "impact.com               1\n",
       "Name: company, Length: 221, dtype: int64"
      ]
     },
     "execution_count": 81,
     "metadata": {},
     "output_type": "execute_result"
    }
   ],
   "source": [
    "planilha.groupby('sources').count().company.sort_values(ascending=False)"
   ]
  },
  {
   "cell_type": "code",
   "execution_count": 80,
   "id": "b4652b3e",
   "metadata": {},
   "outputs": [
    {
     "data": {
      "image/png": "[encoded data removed]",
      "text/plain": [
       "<Figure size 640x480 with 1 Axes>"
      ]
     },
     "metadata": {},
     "output_type": "display_data"
    }
   ],
   "source": [
    "fonte = planilha.groupby('sources').count().company.sort_values(ascending=False).head(15)\n",
    "\n",
    "plt.bar(fonte.index, fonte.values)\n",
    "plt.title('Principais fontes')\n",
    "plt.xticks(rotation=65)\n",
    "plt.show()"
   ]
  },
  {
   "cell_type": "code",
   "execution_count": null,
   "id": "ce7cd4a5",
   "metadata": {},
   "outputs": [],
   "source": []
  }
 ],
 "metadata": {
  "kernelspec": {
   "display_name": "Python 3 (ipykernel)",
   "language": "python",
   "name": "python3"
  },
  "language_info": {
   "codemirror_mode": {
    "name": "ipython",
    "version": 3
   },
   "file_extension": ".py",
   "mimetype": "text/x-python",
   "name": "python",
   "nbconvert_exporter": "python",
   "pygments_lexer": "ipython3",
   "version": "3.10.7"
  }
 },
 "nbformat": 4,
 "nbformat_minor": 5
}
