{
 "cells": [
  {
   "cell_type": "code",
   "execution_count": 28,
   "id": "c81da18a",
   "metadata": {},
   "outputs": [],
   "source": [
    "import pandas as pd\n",
    "import numpy as np\n",
    "import matplotlib.pyplot as plt\n",
    "%matplotlib inline"
   ]
  },
  {
   "cell_type": "code",
   "execution_count": 29,
   "id": "5badd521",
   "metadata": {},
   "outputs": [],
   "source": [
    "planilha = pd.read_csv('demissoes.csv', sep=',')"
   ]
  },
  {
   "cell_type": "code",
   "execution_count": 38,
   "id": "064a2045",
   "metadata": {},
   "outputs": [
    {
     "data": {
      "text/html": [
       "<div>\n",
       "<style scoped>\n",
       "    .dataframe tbody tr th:only-of-type {\n",
       "        vertical-align: middle;\n",
       "    }\n",
       "\n",
       "    .dataframe tbody tr th {\n",
       "        vertical-align: top;\n",
       "    }\n",
       "\n",
       "    .dataframe thead th {\n",
       "        text-align: right;\n",
       "    }\n",
       "</style>\n",
       "<table border=\"1\" class=\"dataframe\">\n",
       "  <thead>\n",
       "    <tr style=\"text-align: right;\">\n",
       "      <th></th>\n",
       "      <th>company</th>\n",
       "      <th>total_layoffs</th>\n",
       "      <th>impacted_workforce_percentage</th>\n",
       "      <th>reported_date</th>\n",
       "      <th>industry</th>\n",
       "      <th>headquarter_location</th>\n",
       "      <th>sources</th>\n",
       "      <th>status</th>\n",
       "      <th>additional_notes</th>\n",
       "    </tr>\n",
       "  </thead>\n",
       "  <tbody>\n",
       "    <tr>\n",
       "      <th>0</th>\n",
       "      <td>C2FO</td>\n",
       "      <td>20</td>\n",
       "      <td>2</td>\n",
       "      <td>12/9/2022</td>\n",
       "      <td>Fintech, payments</td>\n",
       "      <td>Leawood, KS</td>\n",
       "      <td>Kansas City Business Journal</td>\n",
       "      <td>Private</td>\n",
       "      <td>NaN</td>\n",
       "    </tr>\n",
       "    <tr>\n",
       "      <th>1</th>\n",
       "      <td>VideoAmp</td>\n",
       "      <td>Unclear</td>\n",
       "      <td>2</td>\n",
       "      <td>9/19/2022</td>\n",
       "      <td>Advertising platforms</td>\n",
       "      <td>Los Angeles</td>\n",
       "      <td>Company memo</td>\n",
       "      <td>Private</td>\n",
       "      <td>NaN</td>\n",
       "    </tr>\n",
       "    <tr>\n",
       "      <th>2</th>\n",
       "      <td>Amperity</td>\n",
       "      <td>13</td>\n",
       "      <td>3</td>\n",
       "      <td>8/20/2022</td>\n",
       "      <td>Saas, analytics</td>\n",
       "      <td>Seattle</td>\n",
       "      <td>Geekwire</td>\n",
       "      <td>Private</td>\n",
       "      <td>NaN</td>\n",
       "    </tr>\n",
       "    <tr>\n",
       "      <th>3</th>\n",
       "      <td>Addepar</td>\n",
       "      <td>20</td>\n",
       "      <td>3</td>\n",
       "      <td>1/18/2023</td>\n",
       "      <td>fintech, data analytics</td>\n",
       "      <td>Mountain View, CA</td>\n",
       "      <td>Fortune</td>\n",
       "      <td>Private</td>\n",
       "      <td>NaN</td>\n",
       "    </tr>\n",
       "    <tr>\n",
       "      <th>4</th>\n",
       "      <td>Thirty Madison</td>\n",
       "      <td>24</td>\n",
       "      <td>3</td>\n",
       "      <td>5/13/2022</td>\n",
       "      <td>Health Care</td>\n",
       "      <td>New York</td>\n",
       "      <td>Axios</td>\n",
       "      <td>Private</td>\n",
       "      <td>Per Axios, 22 of the employees laid off were f...</td>\n",
       "    </tr>\n",
       "    <tr>\n",
       "      <th>...</th>\n",
       "      <td>...</td>\n",
       "      <td>...</td>\n",
       "      <td>...</td>\n",
       "      <td>...</td>\n",
       "      <td>...</td>\n",
       "      <td>...</td>\n",
       "      <td>...</td>\n",
       "      <td>...</td>\n",
       "      <td>...</td>\n",
       "    </tr>\n",
       "    <tr>\n",
       "      <th>484</th>\n",
       "      <td>Salesforce</td>\n",
       "      <td>9090</td>\n",
       "      <td>Unclear</td>\n",
       "      <td>1/4/2023</td>\n",
       "      <td>enterprise tech, analytics</td>\n",
       "      <td>San Francisco</td>\n",
       "      <td>New York Times</td>\n",
       "      <td>Public</td>\n",
       "      <td>NaN</td>\n",
       "    </tr>\n",
       "    <tr>\n",
       "      <th>485</th>\n",
       "      <td>Oracle</td>\n",
       "      <td>Unclear</td>\n",
       "      <td>Unclear</td>\n",
       "      <td>8/1/2022</td>\n",
       "      <td>SaaS, enterprise software</td>\n",
       "      <td>Austin</td>\n",
       "      <td>The Information</td>\n",
       "      <td>Public</td>\n",
       "      <td>The Information reported thousands of people w...</td>\n",
       "    </tr>\n",
       "    <tr>\n",
       "      <th>486</th>\n",
       "      <td>LivePerson</td>\n",
       "      <td>Unclear</td>\n",
       "      <td>Unclear</td>\n",
       "      <td>9/15/2022</td>\n",
       "      <td>Customer service</td>\n",
       "      <td>New York</td>\n",
       "      <td>LinkedIn</td>\n",
       "      <td>Public</td>\n",
       "      <td>NaN</td>\n",
       "    </tr>\n",
       "    <tr>\n",
       "      <th>487</th>\n",
       "      <td>Skillz</td>\n",
       "      <td>Unclear</td>\n",
       "      <td>Unclear</td>\n",
       "      <td>8/29/2022</td>\n",
       "      <td>Mobile Apps, Gaming</td>\n",
       "      <td>San Francisco</td>\n",
       "      <td>Seeking Alpha</td>\n",
       "      <td>Public</td>\n",
       "      <td>NaN</td>\n",
       "    </tr>\n",
       "    <tr>\n",
       "      <th>488</th>\n",
       "      <td>Blueboard</td>\n",
       "      <td>Unclear</td>\n",
       "      <td>Unclear</td>\n",
       "      <td>11/3/2022</td>\n",
       "      <td>Enterprise Software</td>\n",
       "      <td>San Francisco</td>\n",
       "      <td>LinkedIn reports</td>\n",
       "      <td>Private</td>\n",
       "      <td>NaN</td>\n",
       "    </tr>\n",
       "  </tbody>\n",
       "</table>\n",
       "<p>489 rows × 9 columns</p>\n",
       "</div>"
      ],
      "text/plain": [
       "            company total_layoffs impacted_workforce_percentage reported_date  \\\n",
       "0              C2FO            20                             2     12/9/2022   \n",
       "1          VideoAmp       Unclear                             2     9/19/2022   \n",
       "2          Amperity            13                             3     8/20/2022   \n",
       "3           Addepar            20                             3     1/18/2023   \n",
       "4    Thirty Madison            24                             3     5/13/2022   \n",
       "..              ...           ...                           ...           ...   \n",
       "484      Salesforce          9090                       Unclear      1/4/2023   \n",
       "485          Oracle       Unclear                       Unclear      8/1/2022   \n",
       "486      LivePerson       Unclear                       Unclear     9/15/2022   \n",
       "487          Skillz       Unclear                       Unclear     8/29/2022   \n",
       "488       Blueboard       Unclear                       Unclear     11/3/2022   \n",
       "\n",
       "                       industry headquarter_location  \\\n",
       "0             Fintech, payments          Leawood, KS   \n",
       "1         Advertising platforms          Los Angeles   \n",
       "2               Saas, analytics              Seattle   \n",
       "3       fintech, data analytics    Mountain View, CA   \n",
       "4                   Health Care             New York   \n",
       "..                          ...                  ...   \n",
       "484  enterprise tech, analytics        San Francisco   \n",
       "485   SaaS, enterprise software               Austin   \n",
       "486            Customer service             New York   \n",
       "487         Mobile Apps, Gaming        San Francisco   \n",
       "488         Enterprise Software        San Francisco   \n",
       "\n",
       "                          sources   status  \\\n",
       "0    Kansas City Business Journal  Private   \n",
       "1                    Company memo  Private   \n",
       "2                        Geekwire  Private   \n",
       "3                         Fortune  Private   \n",
       "4                           Axios  Private   \n",
       "..                            ...      ...   \n",
       "484                New York Times   Public   \n",
       "485               The Information   Public   \n",
       "486                      LinkedIn   Public   \n",
       "487                 Seeking Alpha   Public   \n",
       "488              LinkedIn reports  Private   \n",
       "\n",
       "                                      additional_notes  \n",
       "0                                                  NaN  \n",
       "1                                                  NaN  \n",
       "2                                                  NaN  \n",
       "3                                                  NaN  \n",
       "4    Per Axios, 22 of the employees laid off were f...  \n",
       "..                                                 ...  \n",
       "484                                                NaN  \n",
       "485  The Information reported thousands of people w...  \n",
       "486                                                NaN  \n",
       "487                                                NaN  \n",
       "488                                                NaN  \n",
       "\n",
       "[489 rows x 9 columns]"
      ]
     },
     "execution_count": 38,
     "metadata": {},
     "output_type": "execute_result"
    }
   ],
   "source": [
    "planilha"
   ]
  },
  {
   "cell_type": "markdown",
   "id": "18b03056",
   "metadata": {},
   "source": [
    "# 1 Tratamento dos dados"
   ]
  },
  {
   "cell_type": "code",
   "execution_count": 8,
   "id": "ef972c4c",
   "metadata": {},
   "outputs": [
    {
     "data": {
      "text/plain": [
       "company                            0\n",
       "total_layoffs                      0\n",
       "impacted_workforce_percentage      0\n",
       "reported_date                      0\n",
       "industry                           0\n",
       "headquarter_location               0\n",
       "sources                            0\n",
       "status                             0\n",
       "additional_notes                 467\n",
       "dtype: int64"
      ]
     },
     "execution_count": 8,
     "metadata": {},
     "output_type": "execute_result"
    }
   ],
   "source": [
    "planilha.isnull().sum()"
   ]
  },
  {
   "cell_type": "code",
   "execution_count": 9,
   "id": "8a1ad96b",
   "metadata": {},
   "outputs": [
    {
     "data": {
      "text/plain": [
       "0                                                    NaN\n",
       "1                                                    NaN\n",
       "2                                                    NaN\n",
       "3                                                    NaN\n",
       "4      Per Axios, 22 of the employees laid off were f...\n",
       "                             ...                        \n",
       "484                                                  NaN\n",
       "485    The Information reported thousands of people w...\n",
       "486                                                  NaN\n",
       "487                                                  NaN\n",
       "488                                                  NaN\n",
       "Name: additional_notes, Length: 489, dtype: object"
      ]
     },
     "execution_count": 9,
     "metadata": {},
     "output_type": "execute_result"
    }
   ],
   "source": [
    "'''\n",
    "Dados nulos na coluna additional_notes\n",
    "'''\n",
    "planilha['additional_notes']"
   ]
  },
  {
   "cell_type": "code",
   "execution_count": 10,
   "id": "4733ef0c",
   "metadata": {},
   "outputs": [
    {
     "data": {
      "text/plain": [
       "company                          133\n",
       "total_layoffs                    133\n",
       "impacted_workforce_percentage    133\n",
       "reported_date                    133\n",
       "industry                         133\n",
       "headquarter_location             133\n",
       "sources                          133\n",
       "status                           133\n",
       "additional_notes                  14\n",
       "dtype: int64"
      ]
     },
     "execution_count": 10,
     "metadata": {},
     "output_type": "execute_result"
    }
   ],
   "source": [
    "\"\"\"\n",
    "Identificando a quantidade de dados obscuros 'Unclear' nas colunas.\n",
    "\"\"\"\n",
    "planilha[planilha.impacted_workforce_percentage=='Unclear'].count()"
   ]
  },
  {
   "cell_type": "markdown",
   "id": "166571d6",
   "metadata": {},
   "source": [
    "# 2  Identificação e tratamento de valores atípicos (outliers);"
   ]
  },
  {
   "cell_type": "code",
   "execution_count": 50,
   "id": "a573beb9",
   "metadata": {},
   "outputs": [
    {
     "data": {
      "text/plain": [
       "<AxesSubplot: >"
      ]
     },
     "execution_count": 50,
     "metadata": {},
     "output_type": "execute_result"
    },
    {
     "data": {
      "image/png": "[encoded data removed]",
      "text/plain": [
       "<Figure size 640x480 with 1 Axes>"
      ]
     },
     "metadata": {},
     "output_type": "display_data"
    }
   ],
   "source": [
    "planilha.boxplot(column=['total_layoffs'])"
   ]
  },
  {
   "cell_type": "markdown",
   "id": "c382acb6",
   "metadata": {},
   "source": [
    "# 3 Tratamento em formato de dados"
   ]
  },
  {
   "cell_type": "markdown",
   "id": "7959de7a",
   "metadata": {},
   "source": [
    " Para substituir os dados nulos e os dados obscuros das colunas,\n",
    " foi utilizado a função str.replace para substituir por 0 e por 'Sem comentários'"
   ]
  },
  {
   "cell_type": "code",
   "execution_count": 19,
   "id": "296d4a91",
   "metadata": {},
   "outputs": [],
   "source": [
    "\n",
    "planilha['company'] = planilha['company'].str.replace('Unclear','Empresa_vazio',regex=False)"
   ]
  },
  {
   "cell_type": "code",
   "execution_count": 20,
   "id": "d5b9ee2d",
   "metadata": {},
   "outputs": [
    {
     "data": {
      "text/plain": [
       "company                          0\n",
       "total_layoffs                    0\n",
       "impacted_workforce_percentage    0\n",
       "reported_date                    0\n",
       "industry                         0\n",
       "headquarter_location             0\n",
       "sources                          0\n",
       "status                           0\n",
       "additional_notes                 0\n",
       "dtype: int64"
      ]
     },
     "execution_count": 20,
     "metadata": {},
     "output_type": "execute_result"
    }
   ],
   "source": [
    "planilha[planilha.company=='Empresa_vazio'].count()"
   ]
  },
  {
   "cell_type": "code",
   "execution_count": 41,
   "id": "0a14e630",
   "metadata": {},
   "outputs": [],
   "source": [
    "planilha['total_layoffs'] = planilha['total_layoffs'].str.replace('Unclear','0',regex=False)"
   ]
  },
  {
   "cell_type": "code",
   "execution_count": 42,
   "id": "fb1edf52",
   "metadata": {},
   "outputs": [],
   "source": [
    "planilha['impacted_workforce_percentage'] = planilha['impacted_workforce_percentage'].str.replace('Unclear','0',regex=False)"
   ]
  },
  {
   "cell_type": "code",
   "execution_count": 43,
   "id": "8dad60cc",
   "metadata": {},
   "outputs": [],
   "source": [
    "planilha.loc[planilha.additional_notes.isnull(),'additional_notes'] = 'Sem comentários'"
   ]
  },
  {
   "cell_type": "code",
   "execution_count": 44,
   "id": "d37282b2",
   "metadata": {},
   "outputs": [],
   "source": [
    "\"\"\"\n",
    "Verificando os dados atualizados\n",
    "\"\"\"\n",
    "planilha['total_layoffs'] = planilha['total_layoffs'].astype('int')"
   ]
  },
  {
   "cell_type": "code",
   "execution_count": 45,
   "id": "0ba9950b",
   "metadata": {},
   "outputs": [
    {
     "data": {
      "text/html": [
       "<div>\n",
       "<style scoped>\n",
       "    .dataframe tbody tr th:only-of-type {\n",
       "        vertical-align: middle;\n",
       "    }\n",
       "\n",
       "    .dataframe tbody tr th {\n",
       "        vertical-align: top;\n",
       "    }\n",
       "\n",
       "    .dataframe thead th {\n",
       "        text-align: right;\n",
       "    }\n",
       "</style>\n",
       "<table border=\"1\" class=\"dataframe\">\n",
       "  <thead>\n",
       "    <tr style=\"text-align: right;\">\n",
       "      <th></th>\n",
       "      <th>company</th>\n",
       "      <th>total_layoffs</th>\n",
       "      <th>impacted_workforce_percentage</th>\n",
       "      <th>reported_date</th>\n",
       "      <th>industry</th>\n",
       "      <th>headquarter_location</th>\n",
       "      <th>sources</th>\n",
       "      <th>status</th>\n",
       "      <th>additional_notes</th>\n",
       "    </tr>\n",
       "  </thead>\n",
       "  <tbody>\n",
       "    <tr>\n",
       "      <th>0</th>\n",
       "      <td>C2FO</td>\n",
       "      <td>20</td>\n",
       "      <td>2</td>\n",
       "      <td>12/9/2022</td>\n",
       "      <td>Fintech, payments</td>\n",
       "      <td>Leawood, KS</td>\n",
       "      <td>Kansas City Business Journal</td>\n",
       "      <td>Private</td>\n",
       "      <td>Sem comentários</td>\n",
       "    </tr>\n",
       "    <tr>\n",
       "      <th>1</th>\n",
       "      <td>VideoAmp</td>\n",
       "      <td>0</td>\n",
       "      <td>2</td>\n",
       "      <td>9/19/2022</td>\n",
       "      <td>Advertising platforms</td>\n",
       "      <td>Los Angeles</td>\n",
       "      <td>Company memo</td>\n",
       "      <td>Private</td>\n",
       "      <td>Sem comentários</td>\n",
       "    </tr>\n",
       "    <tr>\n",
       "      <th>2</th>\n",
       "      <td>Amperity</td>\n",
       "      <td>13</td>\n",
       "      <td>3</td>\n",
       "      <td>8/20/2022</td>\n",
       "      <td>Saas, analytics</td>\n",
       "      <td>Seattle</td>\n",
       "      <td>Geekwire</td>\n",
       "      <td>Private</td>\n",
       "      <td>Sem comentários</td>\n",
       "    </tr>\n",
       "    <tr>\n",
       "      <th>3</th>\n",
       "      <td>Addepar</td>\n",
       "      <td>20</td>\n",
       "      <td>3</td>\n",
       "      <td>1/18/2023</td>\n",
       "      <td>fintech, data analytics</td>\n",
       "      <td>Mountain View, CA</td>\n",
       "      <td>Fortune</td>\n",
       "      <td>Private</td>\n",
       "      <td>Sem comentários</td>\n",
       "    </tr>\n",
       "    <tr>\n",
       "      <th>4</th>\n",
       "      <td>Thirty Madison</td>\n",
       "      <td>24</td>\n",
       "      <td>3</td>\n",
       "      <td>5/13/2022</td>\n",
       "      <td>Health Care</td>\n",
       "      <td>New York</td>\n",
       "      <td>Axios</td>\n",
       "      <td>Private</td>\n",
       "      <td>Per Axios, 22 of the employees laid off were f...</td>\n",
       "    </tr>\n",
       "    <tr>\n",
       "      <th>...</th>\n",
       "      <td>...</td>\n",
       "      <td>...</td>\n",
       "      <td>...</td>\n",
       "      <td>...</td>\n",
       "      <td>...</td>\n",
       "      <td>...</td>\n",
       "      <td>...</td>\n",
       "      <td>...</td>\n",
       "      <td>...</td>\n",
       "    </tr>\n",
       "    <tr>\n",
       "      <th>484</th>\n",
       "      <td>Salesforce</td>\n",
       "      <td>9090</td>\n",
       "      <td>0</td>\n",
       "      <td>1/4/2023</td>\n",
       "      <td>enterprise tech, analytics</td>\n",
       "      <td>San Francisco</td>\n",
       "      <td>New York Times</td>\n",
       "      <td>Public</td>\n",
       "      <td>Sem comentários</td>\n",
       "    </tr>\n",
       "    <tr>\n",
       "      <th>485</th>\n",
       "      <td>Oracle</td>\n",
       "      <td>0</td>\n",
       "      <td>0</td>\n",
       "      <td>8/1/2022</td>\n",
       "      <td>SaaS, enterprise software</td>\n",
       "      <td>Austin</td>\n",
       "      <td>The Information</td>\n",
       "      <td>Public</td>\n",
       "      <td>The Information reported thousands of people w...</td>\n",
       "    </tr>\n",
       "    <tr>\n",
       "      <th>486</th>\n",
       "      <td>LivePerson</td>\n",
       "      <td>0</td>\n",
       "      <td>0</td>\n",
       "      <td>9/15/2022</td>\n",
       "      <td>Customer service</td>\n",
       "      <td>New York</td>\n",
       "      <td>LinkedIn</td>\n",
       "      <td>Public</td>\n",
       "      <td>Sem comentários</td>\n",
       "    </tr>\n",
       "    <tr>\n",
       "      <th>487</th>\n",
       "      <td>Skillz</td>\n",
       "      <td>0</td>\n",
       "      <td>0</td>\n",
       "      <td>8/29/2022</td>\n",
       "      <td>Mobile Apps, Gaming</td>\n",
       "      <td>San Francisco</td>\n",
       "      <td>Seeking Alpha</td>\n",
       "      <td>Public</td>\n",
       "      <td>Sem comentários</td>\n",
       "    </tr>\n",
       "    <tr>\n",
       "      <th>488</th>\n",
       "      <td>Blueboard</td>\n",
       "      <td>0</td>\n",
       "      <td>0</td>\n",
       "      <td>11/3/2022</td>\n",
       "      <td>Enterprise Software</td>\n",
       "      <td>San Francisco</td>\n",
       "      <td>LinkedIn reports</td>\n",
       "      <td>Private</td>\n",
       "      <td>Sem comentários</td>\n",
       "    </tr>\n",
       "  </tbody>\n",
       "</table>\n",
       "<p>489 rows × 9 columns</p>\n",
       "</div>"
      ],
      "text/plain": [
       "            company  total_layoffs impacted_workforce_percentage  \\\n",
       "0              C2FO             20                             2   \n",
       "1          VideoAmp              0                             2   \n",
       "2          Amperity             13                             3   \n",
       "3           Addepar             20                             3   \n",
       "4    Thirty Madison             24                             3   \n",
       "..              ...            ...                           ...   \n",
       "484      Salesforce           9090                             0   \n",
       "485          Oracle              0                             0   \n",
       "486      LivePerson              0                             0   \n",
       "487          Skillz              0                             0   \n",
       "488       Blueboard              0                             0   \n",
       "\n",
       "    reported_date                    industry headquarter_location  \\\n",
       "0       12/9/2022           Fintech, payments          Leawood, KS   \n",
       "1       9/19/2022       Advertising platforms          Los Angeles   \n",
       "2       8/20/2022             Saas, analytics              Seattle   \n",
       "3       1/18/2023     fintech, data analytics    Mountain View, CA   \n",
       "4       5/13/2022                 Health Care             New York   \n",
       "..            ...                         ...                  ...   \n",
       "484      1/4/2023  enterprise tech, analytics        San Francisco   \n",
       "485      8/1/2022   SaaS, enterprise software               Austin   \n",
       "486     9/15/2022            Customer service             New York   \n",
       "487     8/29/2022         Mobile Apps, Gaming        San Francisco   \n",
       "488     11/3/2022         Enterprise Software        San Francisco   \n",
       "\n",
       "                          sources   status  \\\n",
       "0    Kansas City Business Journal  Private   \n",
       "1                    Company memo  Private   \n",
       "2                        Geekwire  Private   \n",
       "3                         Fortune  Private   \n",
       "4                           Axios  Private   \n",
       "..                            ...      ...   \n",
       "484                New York Times   Public   \n",
       "485               The Information   Public   \n",
       "486                      LinkedIn   Public   \n",
       "487                 Seeking Alpha   Public   \n",
       "488              LinkedIn reports  Private   \n",
       "\n",
       "                                      additional_notes  \n",
       "0                                      Sem comentários  \n",
       "1                                      Sem comentários  \n",
       "2                                      Sem comentários  \n",
       "3                                      Sem comentários  \n",
       "4    Per Axios, 22 of the employees laid off were f...  \n",
       "..                                                 ...  \n",
       "484                                    Sem comentários  \n",
       "485  The Information reported thousands of people w...  \n",
       "486                                    Sem comentários  \n",
       "487                                    Sem comentários  \n",
       "488                                    Sem comentários  \n",
       "\n",
       "[489 rows x 9 columns]"
      ]
     },
     "execution_count": 45,
     "metadata": {},
     "output_type": "execute_result"
    }
   ],
   "source": [
    "planilha"
   ]
  },
  {
   "cell_type": "markdown",
   "id": "1453d566",
   "metadata": {},
   "source": [
    "# 4 Se vários datasets, identificar chaves primárias e realizar a junção (join)"
   ]
  },
  {
   "cell_type": "markdown",
   "id": "ff8dc25f",
   "metadata": {},
   "source": [
    "Foi utilizado apenas um dataframe, não foi necessario realizar a junção."
   ]
  },
  {
   "cell_type": "markdown",
   "id": "867fa9c5",
   "metadata": {},
   "source": [
    "# 5 Criação de novos dados para facilitar a análise (feature engineering)"
   ]
  },
  {
   "cell_type": "markdown",
   "id": "70675648",
   "metadata": {},
   "source": [
    "Por o dataframe ser pequeno não foi precisso criar novos dados para substituir os já existentes."
   ]
  },
  {
   "cell_type": "markdown",
   "id": "01b2f17a",
   "metadata": {},
   "source": [
    "# 6  Realizar 5 análises descritivas e gerar os respectivos gráficos"
   ]
  },
  {
   "cell_type": "markdown",
   "id": "5de3b0a1",
   "metadata": {},
   "source": [
    " 1 -  Qual Companhia teve mais demissões? "
   ]
  },
  {
   "cell_type": "code",
   "execution_count": 26,
   "id": "37f68d8b",
   "metadata": {},
   "outputs": [
    {
     "data": {
      "text/plain": [
       "company\n",
       "Amazon        18000\n",
       "Alphabet      12000\n",
       "Meta          11000\n",
       "Microsoft     10000\n",
       "Salesforce     9090\n",
       "Name: total_layoffs, dtype: int32"
      ]
     },
     "execution_count": 26,
     "metadata": {},
     "output_type": "execute_result"
    }
   ],
   "source": [
    "\"\"\"\n",
    "Soma e ordenação das empresas que mais demitiram, usando as funções .sum e .sort_values\n",
    "\"\"\"\n",
    "planilha.groupby('company').sum(numeric_only=True).total_layoffs.sort_values(ascending=False).head(5)"
   ]
  },
  {
   "cell_type": "code",
   "execution_count": 27,
   "id": "9fc0b566",
   "metadata": {},
   "outputs": [
    {
     "data": {
      "image/png": "[encoded data removed]",
      "text/plain": [
       "<Figure size 640x480 with 1 Axes>"
      ]
     },
     "metadata": {},
     "output_type": "display_data"
    }
   ],
   "source": [
    "demitidos = planilha.groupby('company').sum(numeric_only=True).total_layoffs.sort_values(ascending=False).head(5)\n",
    "\n",
    "plt.bar(demitidos.index, demitidos.values)\n",
    "plt.title('Mais demissões por empresas')\n",
    "plt.xticks(rotation=5)\n",
    "plt.show()"
   ]
  },
  {
   "cell_type": "markdown",
   "id": "abf9f3e0",
   "metadata": {},
   "source": [
    "2 - Quais tipos de empresas (status) teve mais demissões? Pública ou Privada?"
   ]
  },
  {
   "cell_type": "code",
   "execution_count": 61,
   "id": "cb0338f1",
   "metadata": {},
   "outputs": [
    {
     "data": {
      "text/plain": [
       "status\n",
       "Private    370\n",
       "Public     119\n",
       "Name: company, dtype: int64"
      ]
     },
     "execution_count": 61,
     "metadata": {},
     "output_type": "execute_result"
    }
   ],
   "source": [
    "\"\"\"\n",
    "Verificando qual tipo de empresa teve mais demissões com a função .count\n",
    "\"\"\"\n",
    "\n",
    "planilha.groupby('status').count().company.sort_values(ascending=False)"
   ]
  },
  {
   "cell_type": "code",
   "execution_count": 58,
   "id": "bfe1cde7",
   "metadata": {},
   "outputs": [
    {
     "data": {
      "image/png": "[encoded data removed]",
      "text/plain": [
       "<Figure size 640x480 with 1 Axes>"
      ]
     },
     "metadata": {},
     "output_type": "display_data"
    }
   ],
   "source": [
    "tipo = planilha.groupby('status').sum().company.sort_values(ascending=False)\n",
    "\n",
    "plt.bar(tipo.index, tipo.values)\n",
    "plt.title('Tipos de empresas que teve mais demissões')\n",
    "plt.show()"
   ]
  },
  {
   "cell_type": "markdown",
   "id": "b3920e3d",
   "metadata": {},
   "source": [
    "3 - Qual ramo de industria teve mais demissões?"
   ]
  },
  {
   "cell_type": "code",
   "execution_count": 59,
   "id": "787674c3",
   "metadata": {},
   "outputs": [
    {
     "data": {
      "text/plain": [
       "industry\n",
       "Fintech               24\n",
       "Health Care           17\n",
       "PropTech              15\n",
       "E-commerce            13\n",
       "Cybersecurity         10\n",
       "                      ..\n",
       "IT, future of work     1\n",
       "IT, software           1\n",
       "Insurance, fintech     1\n",
       "Insurtech              1\n",
       "video games            1\n",
       "Name: company, Length: 289, dtype: int64"
      ]
     },
     "execution_count": 59,
     "metadata": {},
     "output_type": "execute_result"
    }
   ],
   "source": [
    "planilha.groupby('industry').count().company.sort_values(ascending=False)"
   ]
  },
  {
   "cell_type": "code",
   "execution_count": 63,
   "id": "54e03aac",
   "metadata": {},
   "outputs": [
    {
     "data": {
      "image/png": "[encoded data removed]",
      "text/plain": [
       "<Figure size 640x480 with 1 Axes>"
      ]
     },
     "metadata": {},
     "output_type": "display_data"
    }
   ],
   "source": [
    "ramo = planilha.groupby('industry').count().company.sort_values(ascending=False).head(5)\n",
    "\n",
    "plt.bar(ramo.index, ramo.values)\n",
    "plt.title('Ramo das empresas que teve mais demissões')\n",
    "plt.xticks(rotation=45)\n",
    "plt.show()"
   ]
  },
  {
   "cell_type": "markdown",
   "id": "f8db589d",
   "metadata": {},
   "source": [
    "4 - Qual foi a localidade com mais demitidos?"
   ]
  },
  {
   "cell_type": "code",
   "execution_count": 83,
   "id": "bb8babc4",
   "metadata": {},
   "outputs": [
    {
     "data": {
      "text/plain": [
       "headquarter_location\n",
       "San Francisco          136\n",
       "New York                77\n",
       "Seattle                 21\n",
       "Los Angeles             20\n",
       "Boston                  16\n",
       "                      ... \n",
       "Houston                  1\n",
       "Hoboken, New Jersey      1\n",
       "Healdsburg, CA           1\n",
       "Hayward, California      1\n",
       "Wilmington, NC           1\n",
       "Name: company, Length: 134, dtype: int64"
      ]
     },
     "execution_count": 83,
     "metadata": {},
     "output_type": "execute_result"
    }
   ],
   "source": [
    "planilha.groupby('headquarter_location').count().company.sort_values(ascending=False)"
   ]
  },
  {
   "cell_type": "code",
   "execution_count": 86,
   "id": "12a15ffe",
   "metadata": {},
   "outputs": [
    {
     "data": {
      "image/png": "[encoded data removed]",
      "text/plain": [
       "<Figure size 640x480 with 1 Axes>"
      ]
     },
     "metadata": {},
     "output_type": "display_data"
    }
   ],
   "source": [
    "localidade = planilha.groupby('headquarter_location').count().company.sort_values(ascending=False).head(15)\n",
    "\n",
    "plt.bar(localidade.index, localidade.values)\n",
    "plt.title('Locais com mais demissões')\n",
    "plt.xticks(rotation=90)\n",
    "plt.show()"
   ]
  },
  {
   "cell_type": "markdown",
   "id": "c82be006",
   "metadata": {},
   "source": [
    "5 - Quais as principais fontes de informações?"
   ]
  },
  {
   "cell_type": "code",
   "execution_count": 88,
   "id": "95c41a87",
   "metadata": {},
   "outputs": [
    {
     "data": {
      "text/plain": [
       "sources\n",
       "TechCrunch              52\n",
       "Business Insider        23\n",
       "The Information         23\n",
       "Calcalistech            20\n",
       "LinkedIn                16\n",
       "                        ..\n",
       "External Spreadsheet     1\n",
       "Fast Company             1\n",
       "Freight Waves            1\n",
       "FreightWaves             1\n",
       "impact.com               1\n",
       "Name: company, Length: 221, dtype: int64"
      ]
     },
     "execution_count": 88,
     "metadata": {},
     "output_type": "execute_result"
    }
   ],
   "source": [
    "planilha.groupby('sources').count().company.sort_values(ascending=False)"
   ]
  },
  {
   "cell_type": "code",
   "execution_count": 89,
   "id": "b4652b3e",
   "metadata": {},
   "outputs": [
    {
     "data": {
      "image/png": "[encoded data removed]",
      "text/plain": [
       "<Figure size 640x480 with 1 Axes>"
      ]
     },
     "metadata": {},
     "output_type": "display_data"
    }
   ],
   "source": [
    "fonte = planilha.groupby('sources').count().company.sort_values(ascending=False).head(8)\n",
    "\n",
    "plt.bar(fonte.index, fonte.values)\n",
    "plt.title('Principais fontes')\n",
    "plt.xticks(rotation=65)\n",
    "plt.show()"
   ]
  },
  {
   "cell_type": "markdown",
   "id": "27958f81",
   "metadata": {},
   "source": [
    "Documento compartilhado via Google Drive e o link de acesso estar abaixo."
   ]
  },
  {
   "cell_type": "markdown",
   "id": "a092ee45",
   "metadata": {},
   "source": [
    "https://docs.google.com/document/d/1kjgDhSfB-3QWuOZN0YjJutob8NWYIa-s/edit"
   ]
  }
 ],
 "metadata": {
  "kernelspec": {
   "display_name": "Python 3 (ipykernel)",
   "language": "python",
   "name": "python3"
  },
  "language_info": {
   "codemirror_mode": {
    "name": "ipython",
    "version": 3
   },
   "file_extension": ".py",
   "mimetype": "text/x-python",
   "name": "python",
   "nbconvert_exporter": "python",
   "pygments_lexer": "ipython3",
   "version": "3.10.4"
  },
  "vscode": {
   "interpreter": {
    "hash": "993d07dc77f687807a1d84661e99a4137652aac551634b260a69270801ad9b07"
   }
  }
 },
 "nbformat": 4,
 "nbformat_minor": 5
}
